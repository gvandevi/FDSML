{
 "cells": [
  {
   "cell_type": "markdown",
   "id": "ddcd2824",
   "metadata": {},
   "source": [
    "# Gradient-weighted Class Activation Mapping"
   ]
  },
  {
   "cell_type": "code",
   "execution_count": 1,
   "id": "4e6d5e14",
   "metadata": {},
   "outputs": [],
   "source": [
    "import numpy as np\n",
    "import pandas as pd\n",
    "import matplotlib.pyplot as plt\n",
    "from helpers import convert_to_grid, save_data_pickle, load_pickle, load_data_from_pickle\n",
    "from import_notebook import load_function_from_notebook\n",
    "unprocess_record = load_function_from_notebook(\"SPC.ipynb\", \"unprocess_record\")\n",
    "reprocess = load_function_from_notebook(\"SPC.ipynb\", \"reprocess\")\n",
    "print_image = load_function_from_notebook(\"SPC.ipynb\", \"print_image\")\n",
    "downscale = load_function_from_notebook(\"SPC.ipynb\", \"downscale\")\n",
    "upscale_image = load_function_from_notebook(\"SPC.ipynb\", \"upscale_image\")\n",
    "from PIL import Image, ImageDraw"
   ]
  },
  {
   "cell_type": "code",
   "execution_count": 2,
   "id": "f2003c4c",
   "metadata": {},
   "outputs": [],
   "source": [
    "x_train, y_train, x_val, y_val, x_test, y_test = load_data_from_pickle(1)"
   ]
  },
  {
   "cell_type": "code",
   "execution_count": 11,
   "id": "2e099366",
   "metadata": {},
   "outputs": [],
   "source": [
    "import tensorflow as tf\n",
    "# Get original model\n",
    "original_model_name = 'model-3x3.keras'\n",
    "retrained_model_path = '../SE4AI_data/attack1/naive_attack_model2.keras'\n",
    "original_model = tf.keras.models.load_model(original_model_name)\n",
    "retrained_model =  tf.keras.models.load_model(retrained_model_path)\n",
    "#original_model.summary()\n",
    "source_record = x_train[89]"
   ]
  },
  {
   "cell_type": "code",
   "execution_count": 4,
   "id": "a34cee8f",
   "metadata": {},
   "outputs": [
    {
     "name": "stdout",
     "output_type": "stream",
     "text": [
      "\u001b[1m1/1\u001b[0m \u001b[32m━━━━━━━━━━━━━━━━━━━━\u001b[0m\u001b[37m\u001b[0m \u001b[1m0s\u001b[0m 120ms/step\n",
      "Prediction : Speed limit (80km/h)\n"
     ]
    }
   ],
   "source": [
    "# Get prediction\n",
    "label_text = load_function_from_notebook('CNN.ipynb', 'label_text')\n",
    "labels=label_text()\n",
    "test_dataset = np.array([source_record])\n",
    "predictions = original_model.predict(test_dataset)\n",
    "predicted_classes = np.argmax(predictions, axis=1)\n",
    "print(\"Prediction :\",labels[predicted_classes[0]])"
   ]
  },
  {
   "cell_type": "markdown",
   "id": "3cd347fa",
   "metadata": {},
   "source": [
    "## Poisoned"
   ]
  },
  {
   "cell_type": "code",
   "execution_count": 5,
   "id": "41d06348",
   "metadata": {},
   "outputs": [
    {
     "name": "stdout",
     "output_type": "stream",
     "text": [
      "\u001b[1m1/1\u001b[0m \u001b[32m━━━━━━━━━━━━━━━━━━━━\u001b[0m\u001b[37m\u001b[0m \u001b[1m0s\u001b[0m 83ms/step\n",
      "Prediction : Speed limit (30km/h)\n"
     ]
    }
   ],
   "source": [
    "def reprocess(array,source_record):\n",
    "    low, high = np.min(source_record), np.max(source_record)\n",
    "    reprocessed_record = array * ((high - low) / 255.0) + low\n",
    "    return reprocessed_record \n",
    "poisoned_image = Image.open('../SE4AI_data/attack1/poisoned_image.png')\n",
    "poisoned_image_array = np.array(poisoned_image)\n",
    "poisoned_input = reprocess(poisoned_image_array,source_record)\n",
    "test_dataset = np.array([poisoned_input])\n",
    "poisoned_predictions = retrained_model.predict(test_dataset)\n",
    "predicted_classes = np.argmax(poisoned_predictions, axis=1)\n",
    "print(\"Prediction :\",labels[predicted_classes[0]])"
   ]
  },
  {
   "cell_type": "markdown",
   "id": "710bd5e7",
   "metadata": {},
   "source": [
    "## Get gradients from input"
   ]
  },
  {
   "cell_type": "markdown",
   "id": "a6b66d38",
   "metadata": {},
   "source": [
    "## Get submodel"
   ]
  },
  {
   "cell_type": "code",
   "execution_count": 6,
   "id": "6db7a156",
   "metadata": {},
   "outputs": [
    {
     "ename": "NameError",
     "evalue": "name 'first_layer_input' is not defined",
     "output_type": "error",
     "traceback": [
      "\u001b[1;31m---------------------------------------------------------------------------\u001b[0m",
      "\u001b[1;31mNameError\u001b[0m                                 Traceback (most recent call last)",
      "Cell \u001b[1;32mIn[6], line 8\u001b[0m\n\u001b[0;32m      6\u001b[0m conv_layer_input \u001b[38;5;241m=\u001b[39m original_model\u001b[38;5;241m.\u001b[39mget_layer(conv_layer_name)\u001b[38;5;241m.\u001b[39minput\n\u001b[0;32m      7\u001b[0m last_layer_output \u001b[38;5;241m=\u001b[39m original_model\u001b[38;5;241m.\u001b[39mget_layer(\u001b[38;5;124m\"\u001b[39m\u001b[38;5;124mdense_5\u001b[39m\u001b[38;5;124m\"\u001b[39m)\u001b[38;5;241m.\u001b[39moutput\n\u001b[1;32m----> 8\u001b[0m \u001b[38;5;28mprint\u001b[39m(first_layer_input)\n\u001b[0;32m      9\u001b[0m intermediate_model \u001b[38;5;241m=\u001b[39m tf\u001b[38;5;241m.\u001b[39mkeras\u001b[38;5;241m.\u001b[39mModel(inputs\u001b[38;5;241m=\u001b[39mconv_layer_input, outputs\u001b[38;5;241m=\u001b[39m[conv_layer_output, last_layer_output])\n",
      "\u001b[1;31mNameError\u001b[0m: name 'first_layer_input' is not defined"
     ]
    }
   ],
   "source": [
    "shaped_source_record = np.array([source_record]) \n",
    "input_tensor = tf.convert_to_tensor(shaped_source_record, dtype=tf.float32)\n",
    "from tensorflow.keras.models import Model\n",
    "conv_layer_name=\"conv2d_2\"\n",
    "conv_layer_output = original_model.get_layer(conv_layer_name).output\n",
    "conv_layer_input = original_model.get_layer(conv_layer_name).input\n",
    "last_layer_output = original_model.get_layer(\"dense_5\").output\n",
    "print(first_layer_input)\n",
    "intermediate_model = tf.keras.Model(inputs=conv_layer_input, outputs=[conv_layer_output, last_layer_output])"
   ]
  },
  {
   "cell_type": "markdown",
   "id": "b52a0cba",
   "metadata": {},
   "source": [
    "## Fonctionne"
   ]
  },
  {
   "cell_type": "code",
   "execution_count": 16,
   "id": "024be5ab",
   "metadata": {},
   "outputs": [
    {
     "name": "stdout",
     "output_type": "stream",
     "text": [
      "<KerasTensor shape=(None, 32, 32, 3), dtype=float32, sparse=False, name=input_layer_2>\n",
      "tf.Tensor(\n",
      "[[1.84670743e-02 7.01703012e-01 1.20662838e-01 1.14451523e-03\n",
      "  1.16484435e-02 3.31143662e-02 1.76662303e-04 5.75220838e-05\n",
      "  2.32166611e-03 2.56336387e-03 1.66246231e-04 3.71836795e-04\n",
      "  5.44062518e-02 2.20758189e-03 7.31289183e-05 2.90955577e-05\n",
      "  2.73892929e-05 3.25979578e-04 7.55663950e-06 1.77430212e-02\n",
      "  6.24753954e-03 8.93362972e-04 6.83063554e-05 4.84582648e-04\n",
      "  4.01509055e-07 7.66780722e-05 2.32173502e-02 1.83202428e-05\n",
      "  8.31012403e-06 7.86242599e-05 1.01759233e-05 1.06805972e-04\n",
      "  1.55435770e-03 1.18950032e-08 2.52888685e-06 7.35035073e-08\n",
      "  1.05268036e-05 3.00641716e-08 2.85248746e-07 8.22883521e-07\n",
      "  5.00217766e-07 1.63315360e-06 1.26449220e-06]], shape=(1, 43), dtype=float32)\n",
      "Input Tensor Shape: (1, 32, 32, 3)\n",
      "Last Layer Output Shape: (1,)\n",
      "Gradients Shape: (1, 32, 32, 3)\n",
      "tf.Tensor([0.701703], shape=(1,), dtype=float32)\n",
      "<class 'tensorflow.python.framework.ops.EagerTensor'>\n"
     ]
    },
    {
     "data": {
      "image/png": "[encoded data removed]",
      "text/plain": [
       "<Figure size 640x480 with 2 Axes>"
      ]
     },
     "metadata": {},
     "output_type": "display_data"
    }
   ],
   "source": [
    "#source_record = x_train[89]\n",
    "poisoned_image = Image.open('../SE4AI_data/attack1/poisoned_image.png')\n",
    "poisoned_image_array = np.array(poisoned_image)\n",
    "poisoned_input = reprocess(poisoned_image_array,source_record)\n",
    "source_record = poisoned_input\n",
    "\n",
    "shaped_source_record = np.array([source_record]) \n",
    "input_tensor = tf.convert_to_tensor(shaped_source_record, dtype=tf.float32)\n",
    "from tensorflow.keras.models import Model\n",
    "conv_layer_output = retrained_model.get_layer(conv_layer_name).output\n",
    "first_layer_input = retrained_model.get_layer(conv_layer_name).input\n",
    "last_layer_output = retrained_model.get_layer(\"dense_5\").output\n",
    "print(first_layer_input)\n",
    "intermediate_model = tf.keras.Model(inputs=first_layer_input, outputs=[conv_layer_output, last_layer_output])\n",
    "\n",
    "input_tensor = tf.convert_to_tensor(shaped_source_record, dtype=tf.float32)\n",
    "# Calculer les gradients à l'aide de tf.GradientTape()\n",
    "with tf.GradientTape() as tape:\n",
    "    tape.watch(input_tensor)\n",
    "    preds = retrained_model(input_tensor)\n",
    "    print(preds)\n",
    "    last_layer_output = preds[..., 1]\n",
    "# parameters\n",
    "#source :  \n",
    "source = last_layer_output\n",
    "#target : sortie de modèle pour une classe particulière\n",
    "target = input_tensor \n",
    "#source = input_tensor \n",
    "#target : sortie de modèle pour une classe particulière\n",
    "#target = last_layer_output\n",
    "#gradients = tape.gradient(last_layer_output, input_tensor)\n",
    "gradients = tape.gradient(source, target)\n",
    "print(\"Input Tensor Shape:\", input_tensor.shape)\n",
    "print(\"Last Layer Output Shape:\", last_layer_output.shape)\n",
    "print(\"Gradients Shape:\", gradients.shape)\n",
    "print(last_layer_output)\n",
    "print(type(input_tensor))\n",
    "# Calculer la heatmap en moyennant les gradients sur les canaux\n",
    "heatmap = tf.reduce_mean(gradients, axis=-1)\n",
    "# Normaliser la heatmap entre 0 et 1\n",
    "heatmap = tf.maximum(heatmap, 0) / tf.reduce_max(heatmap)\n",
    "# Afficher l'image originale\n",
    "plt.imshow(input_tensor[0].numpy())\n",
    "plt.axis('off')\n",
    "plt.title('Input Image')\n",
    "# Superposer la heatmap sur l'image originale\n",
    "#plt.imshow(heatmap[0].numpy(), alpha=0.6, cmap='viridis')  # Ajuster alpha pour contrôler la transparence\n",
    "plt.colorbar(label='Pixel Importance')\n",
    "plt.title('Heatmap Overlay')\n",
    "plt.show()"
   ]
  },
  {
   "cell_type": "code",
   "execution_count": null,
   "id": "f731ca3f",
   "metadata": {},
   "outputs": [],
   "source": []
  },
  {
   "cell_type": "code",
   "execution_count": null,
   "id": "f43e7bec",
   "metadata": {},
   "outputs": [],
   "source": []
  }
 ],
 "metadata": {
  "kernelspec": {
   "display_name": "Python 3 (ipykernel)",
   "language": "python",
   "name": "python3"
  },
  "language_info": {
   "codemirror_mode": {
    "name": "ipython",
    "version": 3
   },
   "file_extension": ".py",
   "mimetype": "text/x-python",
   "name": "python",
   "nbconvert_exporter": "python",
   "pygments_lexer": "ipython3",
   "version": "3.11.5"
  }
 },
 "nbformat": 4,
 "nbformat_minor": 5
}
