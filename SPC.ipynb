{
 "cells": [
  {
   "cell_type": "markdown",
   "id": "d9665596",
   "metadata": {},
   "source": [
    "# Scaled prediction consistency"
   ]
  },
  {
   "cell_type": "code",
   "execution_count": 26,
   "id": "bd67c072",
   "metadata": {},
   "outputs": [],
   "source": [
    "import numpy as np\n",
    "import pandas as pd\n",
    "import matplotlib.pyplot as plt\n",
    "from helpers import convert_to_grid, save_data_pickle, load_pickle, load_data_from_pickle\n",
    "from import_notebook import load_function_from_notebook\n",
    "add_trigger = load_function_from_notebook(\"Naive_Trojan.ipynb\", \"add_trigger\")\n",
    "from PIL import Image, ImageDraw"
   ]
  },
  {
   "cell_type": "code",
   "execution_count": 27,
   "id": "452f58c4",
   "metadata": {},
   "outputs": [],
   "source": [
    "x_train, y_train, x_val, y_val, x_test, y_test = load_data_from_pickle(1)"
   ]
  },
  {
   "cell_type": "markdown",
   "id": "c183cc8d",
   "metadata": {},
   "source": [
    "## Downscaling"
   ]
  },
  {
   "cell_type": "code",
   "execution_count": 28,
   "id": "f1fcebec",
   "metadata": {},
   "outputs": [],
   "source": [
    "import numpy as np\n",
    "import matplotlib.pyplot as plt\n",
    "def unprocess_record(source_record):\n",
    "    low, high = np.min(source_record), np.max(source_record)\n",
    "    image_array = 255.0 * (source_record - low) / (high - low)\n",
    "    return image_array\n",
    "def reprocess(array,source_record):\n",
    "    low, high = np.min(source_record), np.max(source_record)\n",
    "    reprocessed_record = array * ((high - low) / 255.0) + low\n",
    "    return reprocessed_record \n",
    "def print_image(image_array,title):\n",
    "    fig = plt.figure()\n",
    "    plt.imshow(image_array.astype('uint8'), cmap='gray')\n",
    "    plt.axis('off')\n",
    "    plt.gcf().set_size_inches(2, 2)\n",
    "    plt.title(title)\n",
    "    plt.show()\n",
    "    plt.close()\n",
    "    return\n",
    "def downscale(image_array,ratio):\n",
    "    image = Image.fromarray(np.uint8(image_array))\n",
    "    new_size = (image.width // ratio, image.height // ratio) \n",
    "    downscaled_image = image.resize(new_size, Image.Resampling.LANCZOS)\n",
    "    downscaled_image_array = np.array(downscaled_image)\n",
    "    return downscaled_image_array\n",
    "\n",
    "def upscale_image(image_array,n):\n",
    "    image = Image.fromarray(np.uint8(image_array))\n",
    "    upscaled_image = image.resize((n,n), Image.Resampling.LANCZOS)\n",
    "    upscaled_array = np.array(upscaled_image)\n",
    "    return upscaled_array"
   ]
  },
  {
   "cell_type": "code",
   "execution_count": 29,
   "id": "bf900105",
   "metadata": {},
   "outputs": [
    {
     "data": {
      "image/png": "[encoded data removed]",
      "text/plain": [
       "<Figure size 200x200 with 1 Axes>"
      ]
     },
     "metadata": {},
     "output_type": "display_data"
    }
   ],
   "source": [
    "source_record = x_train[89]\n",
    "source_image = unprocess_record(source_record)\n",
    "print_image(source_image,\"\")"
   ]
  },
  {
   "cell_type": "code",
   "execution_count": 30,
   "id": "2f8262c1",
   "metadata": {},
   "outputs": [
    {
     "data": {
      "image/png": "[encoded data removed]",
      "text/plain": [
       "<Figure size 200x200 with 1 Axes>"
      ]
     },
     "metadata": {},
     "output_type": "display_data"
    }
   ],
   "source": [
    "downscaled_image=downscale(source_image,5)\n",
    "print_image(downscaled_image,\"\")"
   ]
  },
  {
   "cell_type": "markdown",
   "id": "8205d7b4",
   "metadata": {},
   "source": [
    "## Upscaling"
   ]
  },
  {
   "cell_type": "code",
   "execution_count": 31,
   "id": "464a5d42",
   "metadata": {},
   "outputs": [
    {
     "data": {
      "image/png": "[encoded data removed]",
      "text/plain": [
       "<Figure size 200x200 with 1 Axes>"
      ]
     },
     "metadata": {},
     "output_type": "display_data"
    }
   ],
   "source": [
    "image = Image.fromarray(downscaled_image)\n",
    "# Upscale the image using LANCZOS resampling\n",
    "rescaled_image = image.resize((32,32), Image.Resampling.LANCZOS)\n",
    "rescaled_image_array = np.array(rescaled_image)\n",
    "print_image(rescaled_image_array,\"\")"
   ]
  },
  {
   "cell_type": "markdown",
   "id": "e902d6c1",
   "metadata": {},
   "source": [
    "## Poisoning"
   ]
  },
  {
   "cell_type": "code",
   "execution_count": 32,
   "id": "8eb92d79",
   "metadata": {},
   "outputs": [],
   "source": [
    "def add_trigger(image, position, trigger, mask):\n",
    "    #Normalizes trigger values (min-max scaling)\n",
    "    low, high = np.min(image), np.max(image)\n",
    "    trigger = trigger * ((high - low) / 255.0) + low\n",
    "    #Checks position & trigger compatibility with image dimensions\n",
    "    height, width = trigger.shape[:2]\n",
    "    image_height, image_width, _ = image.shape\n",
    "    if position[0] + height > image_height or position[1] + width > image_width:\n",
    "        raise ValueError(\"Trigger position incompatible with image dimensions.\")\n",
    "    #Alters the image\n",
    "    poisoned_image = np.copy(image)\n",
    "    for i in range(height):\n",
    "        for j in range(width):\n",
    "            if mask[i, j] == 1:\n",
    "                poisoned_image[position[0] + i, position[1] + j] = trigger[i, j]\n",
    "    return poisoned_image"
   ]
  },
  {
   "cell_type": "code",
   "execution_count": 43,
   "id": "b60d0765",
   "metadata": {},
   "outputs": [
    {
     "data": {
      "image/png": "[encoded data removed]",
      "text/plain": [
       "<Figure size 200x200 with 1 Axes>"
      ]
     },
     "metadata": {},
     "output_type": "display_data"
    },
    {
     "name": "stdout",
     "output_type": "stream",
     "text": [
      "<class 'numpy.ndarray'>\n"
     ]
    },
    {
     "data": {
      "image/png": "[encoded data removed]",
      "text/plain": [
       "<Figure size 200x200 with 1 Axes>"
      ]
     },
     "metadata": {},
     "output_type": "display_data"
    }
   ],
   "source": [
    "source_record = x_train[22]\n",
    "source_image = unprocess_record(source_record)\n",
    "print_image(source_image,\"\")\n",
    "trigger_name = \"colored_cat.png\"\n",
    "attack_folder = \"../SE4AI_data/attack1/\"\n",
    "trigger_image = Image.open(attack_folder+trigger_name).convert(\"RGBA\")\n",
    "#converting to rgb array\n",
    "trigger_array = np.array(trigger_image)\n",
    "rgb_trigger = trigger_array[:,:,0:3]\n",
    "mask = np.where(trigger_array[:,:,3] > 128, 1, 0)\n",
    "trigger_position=(11,11)\n",
    "#sticking trigger\n",
    "poisoned_image = add_trigger(source_image, trigger_position, rgb_trigger, mask)\n",
    "image_pil = Image.fromarray((poisoned_image).astype('uint8'))  \n",
    "# Enregistrer l'image avec Pillow\n",
    "image_pil.save(attack_folder+'poisoned_image3.png')\n",
    "print(type(poisoned_image))\n",
    "print_image(poisoned_image,\"\")"
   ]
  },
  {
   "cell_type": "code",
   "execution_count": 34,
   "id": "afc2e83f",
   "metadata": {},
   "outputs": [
    {
     "data": {
      "image/png": "[encoded data removed]",
      "text/plain": [
       "<Figure size 200x200 with 1 Axes>"
      ]
     },
     "metadata": {},
     "output_type": "display_data"
    }
   ],
   "source": [
    "poisoned_downscaled_image = downscale(poisoned_image,4)\n",
    "print_image(poisoned_downscaled_image,\"\")"
   ]
  },
  {
   "cell_type": "code",
   "execution_count": 35,
   "id": "825cc8e8",
   "metadata": {},
   "outputs": [
    {
     "data": {
      "image/png": "[encoded data removed]",
      "text/plain": [
       "<Figure size 200x200 with 1 Axes>"
      ]
     },
     "metadata": {},
     "output_type": "display_data"
    }
   ],
   "source": [
    "new_size = (32, 32)\n",
    "image = Image.fromarray(poisoned_downscaled_image)\n",
    "# Upscale the image using LANCZOS resampling\n",
    "rescaled_image = image.resize(new_size, Image.Resampling.LANCZOS)\n",
    "rescaled_poisoned_array = np.array(rescaled_image)\n",
    "print_image(rescaled_poisoned_array,\"\")"
   ]
  },
  {
   "cell_type": "markdown",
   "id": "c617e022",
   "metadata": {},
   "source": [
    "## Images from second method"
   ]
  },
  {
   "cell_type": "code",
   "execution_count": 40,
   "id": "e79ba984",
   "metadata": {},
   "outputs": [
    {
     "data": {
      "image/png": "[encoded data removed]",
      "text/plain": [
       "<Figure size 200x200 with 1 Axes>"
      ]
     },
     "metadata": {},
     "output_type": "display_data"
    },
    {
     "name": "stdout",
     "output_type": "stream",
     "text": [
      "initial resolution : 389\n",
      "after downscaling : 32\n"
     ]
    },
    {
     "data": {
      "image/png": "[encoded data removed]",
      "text/plain": [
       "<Figure size 200x200 with 1 Axes>"
      ]
     },
     "metadata": {},
     "output_type": "display_data"
    },
    {
     "data": {
      "image/png": "[encoded data removed]",
      "text/plain": [
       "<Figure size 200x200 with 1 Axes>"
      ]
     },
     "metadata": {},
     "output_type": "display_data"
    },
    {
     "name": "stdout",
     "output_type": "stream",
     "text": [
      "initial resolution : 389\n",
      "after downscaling : 32\n"
     ]
    },
    {
     "data": {
      "image/png": "[encoded data removed]",
      "text/plain": [
       "<Figure size 200x200 with 1 Axes>"
      ]
     },
     "metadata": {},
     "output_type": "display_data"
    },
    {
     "name": "stdout",
     "output_type": "stream",
     "text": [
      "[[[255 255 255]\n",
      "  [254 252 253]\n",
      "  [239 236 237]\n",
      "  ...\n",
      "  [237 235 240]\n",
      "  [253 252 254]\n",
      "  [255 255 255]]\n",
      "\n",
      " [[251 251 251]\n",
      "  [241 239 241]\n",
      "  [216 213 215]\n",
      "  ...\n",
      "  [214 213 218]\n",
      "  [240 239 242]\n",
      "  [251 250 251]]\n",
      "\n",
      " [[237 236 237]\n",
      "  [216 214 216]\n",
      "  [173 170 173]\n",
      "  ...\n",
      "  [172 171 178]\n",
      "  [214 213 218]\n",
      "  [236 235 238]]\n",
      "\n",
      " ...\n",
      "\n",
      " [[226 223 222]\n",
      "  [202 199 198]\n",
      "  [157 153 154]\n",
      "  ...\n",
      "  [147 143 142]\n",
      "  [194 188 188]\n",
      "  [218 214 214]]\n",
      "\n",
      " [[244 241 239]\n",
      "  [229 226 225]\n",
      "  [200 196 197]\n",
      "  ...\n",
      "  [195 191 189]\n",
      "  [224 219 218]\n",
      "  [240 235 235]]\n",
      "\n",
      " [[253 250 249]\n",
      "  [243 240 239]\n",
      "  [223 219 221]\n",
      "  ...\n",
      "  [220 217 214]\n",
      "  [241 236 235]\n",
      "  [250 246 245]]]\n"
     ]
    }
   ],
   "source": [
    "clean_image = Image.open(attack_folder+\"80.png\").convert('RGB')\n",
    "clean_image_array = np.array(clean_image)\n",
    "print_image(clean_image_array,\"\")\n",
    "print(\"initial resolution :\",len(clean_image_array))\n",
    "#downscale to 32\n",
    "clean_image_array = downscale(clean_image_array,12)\n",
    "print(\"after downscaling :\",len(clean_image_array))\n",
    "downscaled_image_array = downscale(clean_image_array,2)\n",
    "rescaled_image_array = upscale_image(downscaled_image_array,32)\n",
    "print_image(rescaled_image_array,\"\")\n",
    "poisoned_image = Image.open(attack_folder+\"poisoned_80.png\").convert('RGB')\n",
    "poisoned_image_array = np.array(poisoned_image)\n",
    "print_image(poisoned_image_array,\"\")\n",
    "print(\"initial resolution :\",len(poisoned_image_array))\n",
    "#downscale to 32\n",
    "poisoned_image_array = downscale(poisoned_image_array,12)\n",
    "print(\"after downscaling :\",len(poisoned_image_array))\n",
    "poisoned_downscaled_array = downscale(poisoned_image_array,2)\n",
    "poisoned_rescaled_array = upscale_image(poisoned_downscaled_array,32)\n",
    "print_image(poisoned_rescaled_array,\"\")"
   ]
  },
  {
   "cell_type": "markdown",
   "id": "b0151b12",
   "metadata": {},
   "source": [
    "## Predictions"
   ]
  },
  {
   "cell_type": "code",
   "execution_count": 37,
   "id": "4166c80a",
   "metadata": {},
   "outputs": [],
   "source": [
    "#rescaled_poisoned_image = reprocess(rescaled_poisoned_array,source_record)\n",
    "#rescaled_original_image = reprocess(rescaled_image_array,source_record)\n",
    "rescaled_poisoned_image = reprocess(poisoned_rescaled_array,source_record)\n",
    "rescaled_original_image = reprocess(rescaled_image_array,source_record)\n",
    "test_dataset = np.array([source_record,poisoned_image_array,rescaled_original_image,rescaled_poisoned_image])\n",
    "#source_record, poisoned_image_array,"
   ]
  },
  {
   "cell_type": "code",
   "execution_count": 38,
   "id": "10d81ae4",
   "metadata": {},
   "outputs": [
    {
     "name": "stdout",
     "output_type": "stream",
     "text": [
      "\u001b[1m1/1\u001b[0m \u001b[32m━━━━━━━━━━━━━━━━━━━━\u001b[0m\u001b[37m\u001b[0m \u001b[1m0s\u001b[0m 269ms/step\n"
     ]
    }
   ],
   "source": [
    "import tensorflow as tf\n",
    "#retrained_model_name = 'naive_attack_model.keras'\n",
    "retrained_model_name = 'model_attack_1.keras'\n",
    "#retrained_model = tf.keras.models.load_model(attack_folder+retrained_model_name)\n",
    "retrained_model = tf.keras.models.load_model(retrained_model_name)\n",
    "predictions = retrained_model.predict(test_dataset)"
   ]
  },
  {
   "cell_type": "code",
   "execution_count": 39,
   "id": "be64172d",
   "metadata": {},
   "outputs": [
    {
     "name": "stdout",
     "output_type": "stream",
     "text": [
      "Example 1: Predicted class = 3\n",
      "Example 2: Predicted class = 3\n",
      "Example 3: Predicted class = 4\n",
      "Example 4: Predicted class = 15\n"
     ]
    }
   ],
   "source": [
    "predicted_classes = np.argmax(predictions, axis=1)\n",
    "for i, predicted_class in enumerate(predicted_classes):\n",
    "    print(f\"Example {i+1}: Predicted class = {predicted_class}\")"
   ]
  }
 ],
 "metadata": {
  "kernelspec": {
   "display_name": "Python 3 (ipykernel)",
   "language": "python",
   "name": "python3"
  },
  "language_info": {
   "codemirror_mode": {
    "name": "ipython",
    "version": 3
   },
   "file_extension": ".py",
   "mimetype": "text/x-python",
   "name": "python",
   "nbconvert_exporter": "python",
   "pygments_lexer": "ipython3",
   "version": "3.11.5"
  }
 },
 "nbformat": 4,
 "nbformat_minor": 5
}
