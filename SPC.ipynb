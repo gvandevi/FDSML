{
 "cells": [
  {
   "cell_type": "markdown",
   "id": "d9665596",
   "metadata": {},
   "source": [
    "# Scaled prediction consistency"
   ]
  },
  {
   "cell_type": "code",
   "execution_count": 1,
   "id": "bd67c072",
   "metadata": {},
   "outputs": [],
   "source": [
    "import numpy as np\n",
    "import pandas as pd\n",
    "import matplotlib.pyplot as plt\n",
    "from helpers import *\n",
    "from PIL import Image, ImageDraw"
   ]
  },
  {
   "cell_type": "code",
   "execution_count": 2,
   "id": "42b1b2a0",
   "metadata": {},
   "outputs": [],
   "source": [
    "#folder where data is stored\n",
    "base_path = '../FDSML_data/'\n",
    "#folder where the model will be stored\n",
    "model_path= base_path+'models/'\n",
    "#folder where images will be stored\n",
    "image_path= base_path+'images/'\n",
    "labels = label_text(base_path+'label_names.csv')"
   ]
  },
  {
   "cell_type": "code",
   "execution_count": 3,
   "id": "452f58c4",
   "metadata": {},
   "outputs": [],
   "source": [
    "x_train, y_train, x_val, y_val, x_test, y_test = load_data_from_pickle(1,base_path)"
   ]
  },
  {
   "cell_type": "markdown",
   "id": "c183cc8d",
   "metadata": {},
   "source": [
    "## Downscaling"
   ]
  },
  {
   "cell_type": "code",
   "execution_count": 4,
   "id": "bf900105",
   "metadata": {},
   "outputs": [
    {
     "data": {
      "image/png": "[encoded data removed]",
      "text/plain": [
       "<Figure size 200x200 with 1 Axes>"
      ]
     },
     "metadata": {},
     "output_type": "display_data"
    }
   ],
   "source": [
    "source_record = x_train[89]\n",
    "source_image = unprocess_record(source_record)\n",
    "print_image(source_image,\"\")"
   ]
  },
  {
   "cell_type": "code",
   "execution_count": 5,
   "id": "2f8262c1",
   "metadata": {},
   "outputs": [
    {
     "data": {
      "image/png": "[encoded data removed]",
      "text/plain": [
       "<Figure size 200x200 with 1 Axes>"
      ]
     },
     "metadata": {},
     "output_type": "display_data"
    }
   ],
   "source": [
    "downscaled_image=downscale(source_image,5)\n",
    "print_image(downscaled_image,\"\")"
   ]
  },
  {
   "cell_type": "markdown",
   "id": "8205d7b4",
   "metadata": {},
   "source": [
    "## Upscaling"
   ]
  },
  {
   "cell_type": "code",
   "execution_count": 6,
   "id": "464a5d42",
   "metadata": {},
   "outputs": [
    {
     "data": {
      "image/png": "[encoded data removed]",
      "text/plain": [
       "<Figure size 200x200 with 1 Axes>"
      ]
     },
     "metadata": {},
     "output_type": "display_data"
    }
   ],
   "source": [
    "image = Image.fromarray(downscaled_image)\n",
    "# Upscale the image using LANCZOS resampling\n",
    "rescaled_image = image.resize((32,32), Image.Resampling.LANCZOS)\n",
    "rescaled_image_array = np.array(rescaled_image)\n",
    "print_image(rescaled_image_array,\"\")"
   ]
  },
  {
   "cell_type": "markdown",
   "id": "e902d6c1",
   "metadata": {},
   "source": [
    "## Poisoning"
   ]
  },
  {
   "cell_type": "code",
   "execution_count": 17,
   "id": "b60d0765",
   "metadata": {},
   "outputs": [
    {
     "data": {
      "image/png": "[encoded data removed]",
      "text/plain": [
       "<Figure size 200x200 with 1 Axes>"
      ]
     },
     "metadata": {},
     "output_type": "display_data"
    },
    {
     "data": {
      "image/png": "[encoded data removed]",
      "text/plain": [
       "<Figure size 200x200 with 1 Axes>"
      ]
     },
     "metadata": {},
     "output_type": "display_data"
    }
   ],
   "source": [
    "source_record = x_train[22]\n",
    "source_image = unprocess_record(source_record)\n",
    "print_image(source_image,\"\")\n",
    "trigger_name = \"colored_cat.png\"\n",
    "attack_folder = \"../FDSML_data/attack1/\"\n",
    "trigger_image = Image.open(attack_folder+trigger_name).convert(\"RGBA\")\n",
    "#converting to rgb array\n",
    "trigger_array = np.array(trigger_image)\n",
    "rgb_trigger = trigger_array[:,:,0:3]\n",
    "mask = np.where(trigger_array[:,:,3] > 128, 1, 0)\n",
    "trigger_position=(11,11)\n",
    "#sticking trigger\n",
    "poisoned_image = add_trigger(source_image, trigger_position, rgb_trigger, mask)\n",
    "image_pil = Image.fromarray((poisoned_image).astype('uint8'))  \n",
    "# Enregistrer l'image avec Pillow\n",
    "image_pil.save(attack_folder+'poisoned_image3.png')\n",
    "print_image(poisoned_image,\"\")"
   ]
  },
  {
   "cell_type": "code",
   "execution_count": 10,
   "id": "afc2e83f",
   "metadata": {},
   "outputs": [
    {
     "data": {
      "image/png": "[encoded data removed]",
      "text/plain": [
       "<Figure size 200x200 with 1 Axes>"
      ]
     },
     "metadata": {},
     "output_type": "display_data"
    }
   ],
   "source": [
    "poisoned_downscaled_image = downscale(poisoned_image,4)\n",
    "print_image(poisoned_downscaled_image,\"\")"
   ]
  },
  {
   "cell_type": "code",
   "execution_count": 11,
   "id": "825cc8e8",
   "metadata": {},
   "outputs": [
    {
     "data": {
      "image/png": "[encoded data removed]",
      "text/plain": [
       "<Figure size 200x200 with 1 Axes>"
      ]
     },
     "metadata": {},
     "output_type": "display_data"
    }
   ],
   "source": [
    "new_size = (32, 32)\n",
    "image = Image.fromarray(poisoned_downscaled_image)\n",
    "# Upscale the image using LANCZOS resampling\n",
    "rescaled_image = image.resize(new_size, Image.Resampling.LANCZOS)\n",
    "rescaled_poisoned_array = np.array(rescaled_image)\n",
    "print_image(rescaled_poisoned_array,\"\")"
   ]
  },
  {
   "cell_type": "markdown",
   "id": "b0151b12",
   "metadata": {},
   "source": [
    "## Predictions"
   ]
  },
  {
   "cell_type": "code",
   "execution_count": 18,
   "id": "4166c80a",
   "metadata": {},
   "outputs": [],
   "source": [
    "rescaled_poisoned_image = reprocess(rescaled_poisoned_array,source_record)\n",
    "test_dataset = np.array([source_record,poisoned_image,rescaled_original_image,rescaled_poisoned_image])"
   ]
  },
  {
   "cell_type": "code",
   "execution_count": 28,
   "id": "10d81ae4",
   "metadata": {},
   "outputs": [
    {
     "name": "stdout",
     "output_type": "stream",
     "text": [
      "\u001b[1m1/1\u001b[0m \u001b[32m━━━━━━━━━━━━━━━━━━━━\u001b[0m\u001b[37m\u001b[0m \u001b[1m0s\u001b[0m 88ms/step\n"
     ]
    }
   ],
   "source": [
    "import tensorflow as tf\n",
    "retrained_model_name = 'poisoned_model500.keras'\n",
    "retrained_model = tf.keras.models.load_model(model_path+retrained_model_name)\n",
    "predictions = retrained_model.predict(test_dataset)"
   ]
  },
  {
   "cell_type": "code",
   "execution_count": 29,
   "id": "be64172d",
   "metadata": {},
   "outputs": [
    {
     "name": "stdout",
     "output_type": "stream",
     "text": [
      "Example 1: Predicted class = 5\n",
      "Example 2: Predicted class = 1\n",
      "Example 3: Predicted class = 38\n",
      "Example 4: Predicted class = 12\n"
     ]
    }
   ],
   "source": [
    "predicted_classes = np.argmax(predictions, axis=1)\n",
    "for i, predicted_class in enumerate(predicted_classes):\n",
    "    print(f\"Example {i+1}: Predicted class = {predicted_class}\")"
   ]
  }
 ],
 "metadata": {
  "kernelspec": {
   "display_name": "Python 3 (ipykernel)",
   "language": "python",
   "name": "python3"
  },
  "language_info": {
   "codemirror_mode": {
    "name": "ipython",
    "version": 3
   },
   "file_extension": ".py",
   "mimetype": "text/x-python",
   "name": "python",
   "nbconvert_exporter": "python",
   "pygments_lexer": "ipython3",
   "version": "3.11.5"
  }
 },
 "nbformat": 4,
 "nbformat_minor": 5
}
